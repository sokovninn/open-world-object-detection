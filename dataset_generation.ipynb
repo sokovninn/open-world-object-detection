{
 "cells": [
  {
   "cell_type": "markdown",
   "id": "27f416b8-30ad-44cc-a9af-6bcdb7c11174",
   "metadata": {},
   "source": [
    "# DataDreamer dataset generation"
   ]
  },
  {
   "cell_type": "code",
   "execution_count": null,
   "id": "50b969ba-af66-4a8d-9bde-8bfe71378233",
   "metadata": {
    "scrolled": true
   },
   "outputs": [],
   "source": [
    "!pip install datadreamer"
   ]
  },
  {
   "cell_type": "code",
   "execution_count": null,
   "id": "0b66a1fe-9c6b-459e-8120-9b6f47efb8cf",
   "metadata": {
    "scrolled": true
   },
   "outputs": [],
   "source": [
    "# append person to the class_names to add some negative examples (people without helmets)\n",
    "!datadreamer --save_dir cifar100_20classes_12k \\\n",
    "             --class_names dinosaur butterfly bear motorcycle spider baby bottle ray chimpanzee lion lizard otter streetcar kangaroo porcupine road caterpillar crab castle worm \\\n",
    "             --prompts_number 12000 \\\n",
    "             --prompt_generator simple \\\n",
    "             --num_objects_range 1 1 \\\n",
    "             --image_generator sdxl-lightning \\\n",
    "             --use_tta \\\n",
    "             --batch_size_prompt 256 \\\n",
    "             --batch_size_image 4 \\\n",
    "             --task classification \\\n",
    "             --image_annotator clip \\\n",
    "             --annotator_size large"
   ]
  },
  {
   "cell_type": "code",
   "execution_count": null,
   "id": "2b40a66e-475b-40c3-99ef-0de626e01332",
   "metadata": {},
   "outputs": [],
   "source": [
    "# append person to the class_names to add some negative examples (people without helmets)\n",
    "!datadreamer --save_dir cifar100_20classes_12k_tiny \\\n",
    "             --class_names dinosaur butterfly bear motorcycle spider baby bottle ray chimpanzee lion lizard otter streetcar kangaroo porcupine road caterpillar crab castle worm \\\n",
    "             --prompts_number 12000 \\\n",
    "             --prompt_generator tiny \\\n",
    "             --num_objects_range 1 1 \\\n",
    "             --image_generator sdxl-lightning \\\n",
    "             --use_tta \\\n",
    "             --batch_size_prompt 256 \\\n",
    "             --batch_size_image 4 \\\n",
    "             --task classification \\\n",
    "             --image_annotator clip \\\n",
    "             --annotator_size large"
   ]
  },
  {
   "cell_type": "code",
   "execution_count": null,
   "id": "62e386d4-aa19-4a65-91dd-7b475782a0a5",
   "metadata": {
    "scrolled": true
   },
   "outputs": [],
   "source": [
    "# append person to the class_names to add some negative examples (people without helmets)\n",
    "!datadreamer --save_dir imagenette_3classes_13500 \\\n",
    "             --class_names \"tench\" \"English springer\" \"chain saw\" \\\n",
    "             --prompts_number 13500 \\\n",
    "             --prompt_generator tiny \\\n",
    "             --num_objects_range 1 1 \\\n",
    "             --image_generator sdxl-lightning \\\n",
    "             --use_tta \\\n",
    "             --batch_size_prompt 256 \\\n",
    "             --batch_size_image 4 \\\n",
    "             --task classification \\\n",
    "             --image_annotator clip \\\n",
    "             --annotator_size large"
   ]
  },
  {
   "cell_type": "code",
   "execution_count": 1,
   "id": "ee2e2906-21b5-4e42-a2de-1f33cc35cb1a",
   "metadata": {
    "scrolled": true
   },
   "outputs": [
    {
     "name": "stdout",
     "output_type": "stream",
     "text": [
      "2024-04-24 19:56:08.196801: I tensorflow/core/util/port.cc:113] oneDNN custom operations are on. You may see slightly different numerical results due to floating-point round-off errors from different computation orders. To turn them off, set the environment variable `TF_ENABLE_ONEDNN_OPTS=0`.\n",
      "2024-04-24 19:56:08.247619: E external/local_xla/xla/stream_executor/cuda/cuda_dnn.cc:9261] Unable to register cuDNN factory: Attempting to register factory for plugin cuDNN when one has already been registered\n",
      "2024-04-24 19:56:08.247675: E external/local_xla/xla/stream_executor/cuda/cuda_fft.cc:607] Unable to register cuFFT factory: Attempting to register factory for plugin cuFFT when one has already been registered\n",
      "2024-04-24 19:56:08.249051: E external/local_xla/xla/stream_executor/cuda/cuda_blas.cc:1515] Unable to register cuBLAS factory: Attempting to register factory for plugin cuBLAS when one has already been registered\n",
      "2024-04-24 19:56:08.257416: I tensorflow/core/platform/cpu_feature_guard.cc:182] This TensorFlow binary is optimized to use available CPU instructions in performance-critical operations.\n",
      "To enable the following instructions: AVX2 AVX512F AVX512_VNNI FMA, in other operations, rebuild TensorFlow with the appropriate compiler flags.\n",
      "2024-04-24 19:56:09.261889: W tensorflow/compiler/tf2tensorrt/utils/py_utils.cc:38] TF-TRT Warning: Could not find TensorRT\n",
      "[nltk_data] Downloading package wordnet to /home/jovyan/nltk_data...\n",
      "[nltk_data]   Package wordnet is already up-to-date!\n",
      "Annotating images: 100%|████████████████████| 2906/2906 [01:54<00:00, 25.48it/s]\n",
      "Number of images: 2906\n",
      "Number of images with single label: 2737\n"
     ]
    }
   ],
   "source": [
    "# append person to the class_names to add some negative examples (people without helmets)\n",
    "!datadreamer --save_dir predicted_unknown_imagenette \\\n",
    "             --class_names \"tench\" \"English springer\" \"chain saw\" \\\n",
    "             --use_tta \\\n",
    "             --task classification \\\n",
    "             --image_annotator clip \\\n",
    "             --annotator_size large \\\n",
    "             --annotate_only \\\n",
    "             --dataset_format cls-single \\\n",
    "             --split_ratios 0.7 0.3 0.0"
   ]
  },
  {
   "cell_type": "code",
   "execution_count": 1,
   "id": "310b83cd-bde8-4abb-a166-0a93843264d6",
   "metadata": {},
   "outputs": [
    {
     "name": "stdout",
     "output_type": "stream",
     "text": [
      "2024-04-25 10:22:48.569840: I tensorflow/core/util/port.cc:113] oneDNN custom operations are on. You may see slightly different numerical results due to floating-point round-off errors from different computation orders. To turn them off, set the environment variable `TF_ENABLE_ONEDNN_OPTS=0`.\n",
      "2024-04-25 10:22:48.620867: E external/local_xla/xla/stream_executor/cuda/cuda_dnn.cc:9261] Unable to register cuDNN factory: Attempting to register factory for plugin cuDNN when one has already been registered\n",
      "2024-04-25 10:22:48.620912: E external/local_xla/xla/stream_executor/cuda/cuda_fft.cc:607] Unable to register cuFFT factory: Attempting to register factory for plugin cuFFT when one has already been registered\n",
      "2024-04-25 10:22:48.622285: E external/local_xla/xla/stream_executor/cuda/cuda_blas.cc:1515] Unable to register cuBLAS factory: Attempting to register factory for plugin cuBLAS when one has already been registered\n",
      "2024-04-25 10:22:48.630034: I tensorflow/core/platform/cpu_feature_guard.cc:182] This TensorFlow binary is optimized to use available CPU instructions in performance-critical operations.\n",
      "To enable the following instructions: AVX2 AVX512F AVX512_VNNI FMA, in other operations, rebuild TensorFlow with the appropriate compiler flags.\n",
      "2024-04-25 10:22:49.661244: W tensorflow/compiler/tf2tensorrt/utils/py_utils.cc:38] TF-TRT Warning: Could not find TensorRT\n",
      "[nltk_data] Downloading package wordnet to /home/jovyan/nltk_data...\n",
      "[nltk_data]   Package wordnet is already up-to-date!\n",
      "Annotating images: 100%|██████████████████| 11931/11931 [07:53<00:00, 25.19it/s]\n",
      "Number of images: 11931\n",
      "Number of images with single label: 8200\n"
     ]
    }
   ],
   "source": [
    "# append person to the class_names to add some negative examples (people without helmets)\n",
    "!datadreamer --save_dir predicted_unknown_tinyimagenet \\\n",
    "             --class_names \"Arabian camel\" centipede chest fountain hog koala \"potter's wheel\" \"remote control\" \"sports car\" tarantula \"CD player\" chain cliff \"German shepherd\" jinrikisha \"Labrador retriever\" \"punching bag\" \"spider web\" syringe \"water jug\"\\\n",
    "             --prompts_number 12000 \\\n",
    "             --prompt_generator tiny \\\n",
    "             --num_objects_range 1 1 \\\n",
    "             --image_generator sdxl-lightning \\\n",
    "             --use_tta \\\n",
    "             --batch_size_prompt 256 \\\n",
    "             --batch_size_image 4 \\\n",
    "             --task classification \\\n",
    "             --image_annotator clip \\\n",
    "             --annotator_size large \\\n",
    "             --annotate_only \\\n",
    "             --dataset_format cls-single \\\n",
    "             --split_ratios 0.9 0.1 0.0"
   ]
  },
  {
   "cell_type": "code",
   "execution_count": null,
   "id": "091c4710-da84-45ee-808c-4566848d1a8c",
   "metadata": {},
   "outputs": [
    {
     "name": "stdout",
     "output_type": "stream",
     "text": [
      "2024-04-23 00:07:41.508795: I tensorflow/core/util/port.cc:113] oneDNN custom operations are on. You may see slightly different numerical results due to floating-point round-off errors from different computation orders. To turn them off, set the environment variable `TF_ENABLE_ONEDNN_OPTS=0`.\n",
      "2024-04-23 00:07:41.559906: E external/local_xla/xla/stream_executor/cuda/cuda_dnn.cc:9261] Unable to register cuDNN factory: Attempting to register factory for plugin cuDNN when one has already been registered\n",
      "2024-04-23 00:07:41.559958: E external/local_xla/xla/stream_executor/cuda/cuda_fft.cc:607] Unable to register cuFFT factory: Attempting to register factory for plugin cuFFT when one has already been registered\n",
      "2024-04-23 00:07:41.561296: E external/local_xla/xla/stream_executor/cuda/cuda_blas.cc:1515] Unable to register cuBLAS factory: Attempting to register factory for plugin cuBLAS when one has already been registered\n",
      "2024-04-23 00:07:41.568635: I tensorflow/core/platform/cpu_feature_guard.cc:182] This TensorFlow binary is optimized to use available CPU instructions in performance-critical operations.\n",
      "To enable the following instructions: AVX2 AVX512F AVX512_VNNI FMA, in other operations, rebuild TensorFlow with the appropriate compiler flags.\n",
      "2024-04-23 00:07:42.578992: W tensorflow/compiler/tf2tensorrt/utils/py_utils.cc:38] TF-TRT Warning: Could not find TensorRT\n",
      "[nltk_data] Downloading package wordnet to /home/jovyan/nltk_data...\n",
      "[nltk_data]   Package wordnet is already up-to-date!\n",
      "Loading language model on GPU...\n",
      "Done!\n",
      "Generating prompts...:  15%|██▎            | 1856/12000 [01:33<07:42, 21.95it/s]You seem to be using the pipelines sequentially on GPU. In order to maximize efficiency please use a dataset\n",
      "Generating prompts...:  51%|███████▋       | 6179/12000 [04:47<04:26, 21.84it/s]"
     ]
    }
   ],
   "source": [
    "!datadreamer --save_dir imagenet200_20classes_12k \\\n",
    "             --class_names \"Arabian camel\" centipede chest fountain hog koala \"potter's wheel\" \"remote control\" \"sports car\" tarantula \"CD player\" chain cliff \"German shepherd\" jinrikisha \"Labrador retriever\" \"punching bag\" \"spider web\" syringe \"water jug\"\\\n",
    "             --prompts_number 12000 \\\n",
    "             --prompt_generator tiny \\\n",
    "             --num_objects_range 1 1 \\\n",
    "             --image_generator sdxl-lightning \\\n",
    "             --use_tta \\\n",
    "             --batch_size_prompt 256 \\\n",
    "             --batch_size_image 4 \\\n",
    "             --task classification \\\n",
    "             --image_annotator clip \\\n",
    "             --annotator_size large \\\n",
    "             --prompt_suffix \" low quality, low resolution, lowres, jpeg artifacts, 360p\" \\\n",
    "             --negative_prompt \"cartoon, blue skin, painting, scrispture, golden, illustration, unrealistic dream, static, sd character, greyscale, monochrome, nose, cropped, deformed iris, deformed pupils, bad eyes, semi-realistic worst quality, bad lips, deformed mouth, deformed face, deformed fingers, bad anatomy\""
   ]
  },
  {
   "cell_type": "code",
   "execution_count": null,
   "id": "1329108a-f140-4a0d-8121-e36ce48f20a3",
   "metadata": {
    "scrolled": true
   },
   "outputs": [],
   "source": [
    "!datadreamer --save_dir voc_5_classes_sdxl_5k \\\n",
    "             --class_names \"bus\" \"cow\" \"dining table\" \"sofa\" \"train\" \\\n",
    "             --prompts_number 5000 \\\n",
    "             --prompt_generator tiny \\\n",
    "             --num_objects_range 1 1 \\\n",
    "             --image_generator sdxl \\\n",
    "             --use_tta \\\n",
    "             --batch_size_prompt 256 \\\n",
    "             --batch_size_image 4 \\\n",
    "             --task detection \\\n",
    "             --image_annotator owlv2 \\\n",
    "             --annotator_size base"
   ]
  },
  {
   "cell_type": "code",
   "execution_count": null,
   "id": "b1fce646-b9cf-49b3-aca7-76ac4707aff7",
   "metadata": {},
   "outputs": [],
   "source": []
  },
  {
   "cell_type": "code",
   "execution_count": null,
   "id": "a88ee4d0-2e0e-4022-8d36-5a9186ebe01b",
   "metadata": {
    "scrolled": true
   },
   "outputs": [],
   "source": [
    "!datadreamer --save_dir voc_5_classes_sdxl_5k \\\n",
    "             --class_names \"aeroplane\" \"bicycle\" \"bird\" \"boat\" \"bottle\" \"bus\" \"car\" \"cat\" \"chair\" \"cow\" \"dining table\" \"dog\" \"horse\" \"motorbike\" \"person\" \"potted plant\" \"sheep\" \"sofa\" \"train\" \"tv monitor\" \\\n",
    "             --prompts_number 5000 \\\n",
    "             --prompt_generator tiny \\\n",
    "             --num_objects_range 1 1 \\\n",
    "             --image_generator sdxl-lightning \\\n",
    "             --use_tta \\\n",
    "             --batch_size_prompt 256 \\\n",
    "             --batch_size_image 4 \\\n",
    "             --task detection \\\n",
    "             --image_annotator owlv2 \\\n",
    "             --annotator_size base \\\n",
    "             --annotate_only\n",
    " "
   ]
  },
  {
   "cell_type": "code",
   "execution_count": 3,
   "id": "9e2d8e71-e482-4132-a203-8275addbc7fd",
   "metadata": {},
   "outputs": [],
   "source": [
    "!python ../datadreamer/utils/convert_dataset.py --input_dir voc_5_classes_sdxl_5k --output_dir voc_5_classes_sdxl_5k_yolo --dataset_format yolo --split_ratios 0.9 0.1 0.0"
   ]
  },
  {
   "cell_type": "code",
   "execution_count": null,
   "id": "4df73186-605a-4283-b88b-465dc65332ad",
   "metadata": {
    "scrolled": true
   },
   "outputs": [],
   "source": [
    "!datadreamer --save_dir predicted_unknown_voc \\\n",
    "             --class_names \"aeroplane\" \"bicycle\" \"bird\" \"boat\" \"bottle\" \"bus\" \"car\" \"cat\" \"chair\" \"cow\" \"dining table\" \"dog\" \"horse\" \"motorbike\" \"person\" \"potted plant\" \"sheep\" \"sofa\" \"train\" \"tv monitor\" \\\n",
    "             --prompts_number 5000 \\\n",
    "             --prompt_generator tiny \\\n",
    "             --num_objects_range 1 1 \\\n",
    "             --image_generator sdxl-lightning \\\n",
    "             --use_tta \\\n",
    "             --batch_size_prompt 256 \\\n",
    "             --batch_size_image 4 \\\n",
    "             --task detection \\\n",
    "             --image_annotator owlv2 \\\n",
    "             --annotator_size large \\\n",
    "             --annotate_only \n",
    " "
   ]
  },
  {
   "cell_type": "code",
   "execution_count": null,
   "id": "c4ba62c0-84d5-4f2c-982f-e1e64c8c9100",
   "metadata": {
    "scrolled": true
   },
   "outputs": [],
   "source": [
    "!datadreamer --save_dir voc_5_classes_light_5k \\\n",
    "             --class_names \"bus\" \"cow\" \"dining table\" \"sofa\" \"train\" \\\n",
    "             --prompts_number 5000 \\\n",
    "             --prompt_generator tiny \\\n",
    "             --num_objects_range 1 1 \\\n",
    "             --image_generator sdxl-lightning \\\n",
    "             --use_tta \\\n",
    "             --batch_size_prompt 256 \\\n",
    "             --batch_size_image 4 \\\n",
    "             --task detection \\\n",
    "             --image_annotator owlv2 \\\n",
    "             --annotator_size base"
   ]
  },
  {
   "cell_type": "code",
   "execution_count": null,
   "id": "62494fc8-b0de-41fd-84d7-8836027c7169",
   "metadata": {
    "scrolled": true
   },
   "outputs": [],
   "source": [
    "!datadreamer --save_dir voc_5_classes_light_5k \\\n",
    "             --class_names \"aeroplane\" \"bicycle\" \"bird\" \"boat\" \"bottle\" \"bus\" \"car\" \"cat\" \"chair\" \"cow\" \"dining table\" \"dog\" \"horse\" \"motorbike\" \"person\" \"potted plant\" \"sheep\" \"sofa\" \"train\" \"tv monitor\" \\\n",
    "             --prompts_number 5000 \\\n",
    "             --prompt_generator tiny \\\n",
    "             --num_objects_range 1 1 \\\n",
    "             --image_generator sdxl-lightning \\\n",
    "             --use_tta \\\n",
    "             --batch_size_prompt 256 \\\n",
    "             --batch_size_image 4 \\\n",
    "             --task detection \\\n",
    "             --image_annotator owlv2 \\\n",
    "             --annotator_size base \\\n",
    "             --annotate_only"
   ]
  },
  {
   "cell_type": "code",
   "execution_count": 2,
   "id": "8444b6f4-e75a-4214-b5c8-fb189305c6ec",
   "metadata": {},
   "outputs": [],
   "source": [
    "!python ../datadreamer/utils/convert_dataset.py --input_dir voc_5_classes_light_5k --output_dir voc_5_classes_light_5k_yolo --dataset_format yolo --split_ratios 0.9 0.1 0.0"
   ]
  },
  {
   "cell_type": "code",
   "execution_count": null,
   "id": "5dfcc8e1-bf21-42d8-924b-7e18dfe02b52",
   "metadata": {},
   "outputs": [],
   "source": [
    "!python ../datadreamer/utils/convert_dataset.py --input_dir voc_5_classes_10k --output_dir voc_5_classes_10k_yolo --dataset_format yolo --split_ratios 0.8 0.2 0.0"
   ]
  },
  {
   "cell_type": "code",
   "execution_count": 5,
   "id": "99cc3d59-1105-4782-b3c5-a9772838d1fd",
   "metadata": {},
   "outputs": [],
   "source": [
    "!python ../datadreamer/utils/convert_dataset.py --input_dir predicted_unknown_voc --output_dir predicted_unknown_voc_owlv2 --dataset_format yolo --split_ratios 0.9 0.1 0.0"
   ]
  },
  {
   "cell_type": "code",
   "execution_count": 1,
   "id": "d6cb7a75-e373-41ad-90eb-71af14f661ec",
   "metadata": {},
   "outputs": [
    {
     "name": "stdout",
     "output_type": "stream",
     "text": [
      "Number of images: 12000\n",
      "Number of images with single label: 11669\n"
     ]
    }
   ],
   "source": [
    "!python ../datadreamer/utils/convert_dataset.py --input_dir cifar100_20classes_12k --output_dir cifar100_20classes_12k_cls --dataset_format cls-single --split_ratios 0.8 0.2 0.0"
   ]
  },
  {
   "cell_type": "code",
   "execution_count": 2,
   "id": "17137bb6-c009-4d04-9ed2-efc513ab209b",
   "metadata": {},
   "outputs": [
    {
     "name": "stdout",
     "output_type": "stream",
     "text": [
      "Number of images: 12000\n",
      "Number of images with single label: 10901\n"
     ]
    }
   ],
   "source": [
    "!python ../datadreamer/utils/convert_dataset.py --input_dir cifar100_20classes_12k_tiny --output_dir cifar100_20classes_12k_tiny_cls --dataset_format cls-single --split_ratios 0.8 0.2 0.0"
   ]
  },
  {
   "cell_type": "code",
   "execution_count": 1,
   "id": "e2650946-4a15-475c-8beb-07f6f423a70f",
   "metadata": {},
   "outputs": [
    {
     "name": "stdout",
     "output_type": "stream",
     "text": [
      "Number of images: 13500\n",
      "Number of images with single label: 13429\n"
     ]
    }
   ],
   "source": [
    "#imagenette_3classes_4500\n",
    "!python ../datadreamer/utils/convert_dataset.py --input_dir imagenette_3classes_13500 --output_dir imagenette_3classes_13500_cls --dataset_format cls-single --split_ratios 0.7 0.3 0.0"
   ]
  },
  {
   "cell_type": "code",
   "execution_count": 1,
   "id": "d0ec8af1-13ba-4c4c-b565-f5c489d15496",
   "metadata": {},
   "outputs": [
    {
     "name": "stdout",
     "output_type": "stream",
     "text": [
      "Number of images: 12000\n",
      "Number of images with single label: 11005\n"
     ]
    }
   ],
   "source": [
    "!python ../datadreamer/utils/convert_dataset.py --input_dir imagenet200_20classes_12k --output_dir imagenet200_20classes_12k_cls --dataset_format cls-single --split_ratios 0.9 0.1 0.0"
   ]
  },
  {
   "cell_type": "code",
   "execution_count": null,
   "id": "85e7b8d5-329f-48bf-9176-b0fdb6981fa3",
   "metadata": {},
   "outputs": [],
   "source": []
  }
 ],
 "metadata": {
  "kernelspec": {
   "display_name": "Python 3 (ipykernel)",
   "language": "python",
   "name": "python3"
  },
  "language_info": {
   "codemirror_mode": {
    "name": "ipython",
    "version": 3
   },
   "file_extension": ".py",
   "mimetype": "text/x-python",
   "name": "python",
   "nbconvert_exporter": "python",
   "pygments_lexer": "ipython3",
   "version": "3.11.6"
  }
 },
 "nbformat": 4,
 "nbformat_minor": 5
}
